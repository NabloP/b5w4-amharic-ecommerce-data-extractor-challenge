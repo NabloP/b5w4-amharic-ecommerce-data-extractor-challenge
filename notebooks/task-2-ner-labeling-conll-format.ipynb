{
 "cells": [
  {
   "cell_type": "markdown",
   "id": "26410f11",
   "metadata": {},
   "source": [
    "# 🏷️ Task 2 – NER Labeling & CoNLL Preparation  \n",
    "📘 Version: 2025-06-24\n",
    "\n",
    "Manual Named Entity Recognition (NER) labeling of Amharic e-commerce posts. This notebook supports interactive review and annotation of vendor Telegram messages using the CoNLL tagging format. Entities include products, prices, locations, and optional attributes such as quantity or delivery terms.\n",
    "\n",
    "---\n",
    "\n",
    "**Challenge:** B5W4 – Amharic E-Commerce Data Extractor  \n",
    "**Company:** EthioMart (Telegram E-Commerce Aggregator)  \n",
    "**Author:** Nabil Mohamed  \n",
    "**Branch:** `task-2-ner-labeling-conll-format`  \n",
    "**Date:** June 2025  \n",
    "\n",
    "---\n",
    "\n",
    "### 📌 This notebook covers:\n",
    "- Loading cleaned Amharic Telegram messages for annotation\n",
    "- Guidelines for labeling entities with CoNLL-style BIO tags\n",
    "- Tokenization and manual tagging interface\n",
    "- Exporting labeled data to `data/labeled/telegram_messages_labeled.conll`\n",
    "- Diagnostic preview and tagging consistency checks\n"
   ]
  },
  {
   "cell_type": "code",
   "execution_count": 1,
   "id": "c3aab676",
   "metadata": {},
   "outputs": [
    {
     "name": "stdout",
     "output_type": "stream",
     "text": [
      "📂 Changed working directory to project root\n",
      "✅ Added to sys.path: c:\\Users\\admin\\Documents\\GIT Repositories\\b5w4-amharic-ecommerce-data-extractor-challenge\n",
      "📁 Output path ready\n"
     ]
    }
   ],
   "source": [
    "# ------------------------------------------------------------------------------\n",
    "# 🛠 Ensure Notebook Runs from Project Root (for src/ imports to work)\n",
    "# ------------------------------------------------------------------------------\n",
    "\n",
    "import os\n",
    "import sys\n",
    "\n",
    "# If running from /notebooks/, move up to project root\n",
    "if os.path.basename(os.getcwd()) == \"notebooks\":\n",
    "    os.chdir(\"..\")\n",
    "    print(\"📂 Changed working directory to project root\")\n",
    "\n",
    "# Add project root to sys.path so `src/` modules can be imported\n",
    "project_root = os.getcwd()\n",
    "if project_root not in sys.path:\n",
    "    sys.path.insert(0, project_root)\n",
    "    print(f\"✅ Added to sys.path: {project_root}\")\n",
    "\n",
    "# Optional: verify file presence to confirm we're in the right place\n",
    "expected_path = \"data/raw\"\n",
    "print(\n",
    "    \"📁 Output path ready\"\n",
    "    if os.path.exists(expected_path)\n",
    "    else f\"⚠️ Output path not found: {expected_path}\"\n",
    ")"
   ]
  },
  {
   "cell_type": "markdown",
   "id": "e6c2c5da",
   "metadata": {},
   "source": [
    "## 📦 Imports & Environment Setup\n",
    "\n",
    "This cell loads the core libraries required for token-level NER labeling and CoNLL-format preparation. The imports are grouped by function:\n",
    "\n",
    "- **Data handling**: `pandas` for managing raw and labeled message tables  \n",
    "- **Text processing**: `re` for pattern matching, basic token splitting for CoNLL-style tags  \n",
    "- **Labeling utilities**: Optional helpers for token navigation and validation  \n",
    "- **System I/O**: `os` and `pathlib` for safe directory and file operations  \n",
    "\n",
    "These tools power the annotation interface, enforce tagging consistency, and ensure properly formatted CoNLL output.\n"
   ]
  },
  {
   "cell_type": "code",
   "execution_count": 2,
   "id": "7ebe6ae0",
   "metadata": {},
   "outputs": [],
   "source": [
    "# ------------------------------------------------------------------------------\n",
    "# 📦 Core Imports – Labeling, Tokenization, and CoNLL Export\n",
    "# ------------------------------------------------------------------------------\n",
    "\n",
    "# Standard Library\n",
    "import os  # File and path handling\n",
    "import re  # Regex for tokenization and entity detection\n",
    "from pathlib import Path  # Cross-platform path safety\n",
    "import warnings  # Suppress benign warnings\n",
    "\n",
    "# Core Analysis\n",
    "import pandas as pd  # Structured data handling\n",
    "\n",
    "# Optional: tidy up notebook output\n",
    "warnings.filterwarnings(\"ignore\")"
   ]
  },
  {
   "cell_type": "markdown",
   "id": "8204b514",
   "metadata": {},
   "source": [
    "## 📥 Load & Preview Cleaned Telegram Messages (Task 2 Input)\n",
    "\n",
    "This step loads the cleaned Amharic Telegram e-commerce posts from `data/cleaned/telegram_messages.csv` into memory for manual Named Entity Recognition (NER) tagging.\n",
    "\n",
    "- Reads structured CSV with message text, channel name, and timestamp  \n",
    "- Validates structure: non-empty, expected columns (`message`, `channel`, `timestamp`)  \n",
    "- Outputs summary diagnostics: number of messages, sample preview  \n",
    "- Raises explicit errors for missing or malformed files  \n",
    "- Ensures messages are ready for token-level annotation and CoNLL tagging\n"
   ]
  },
  {
   "cell_type": "code",
   "execution_count": 3,
   "id": "92725a9d",
   "metadata": {},
   "outputs": [
    {
     "name": "stdout",
     "output_type": "stream",
     "text": [
      "✅ Telegram messages loaded: 50 rows × 1 columns\n",
      "✅ Loaded 50 messages for labeling.\n"
     ]
    }
   ],
   "source": [
    "# ------------------------------------------------------------------------------\n",
    "# 📦 Load Cleaned Telegram Messages for NER Labeling\n",
    "# ------------------------------------------------------------------------------\n",
    "\n",
    "from src.data_loader import TelegramMessageLoader  # Custom loader class\n",
    "\n",
    "# Define path to pre-cleaned and sorted messages\n",
    "data_path = \"data/labeled/candidate_messages_for_labeling.txt\"\n",
    "\n",
    "# Initialize loader class\n",
    "loader = TelegramMessageLoader(filepath=data_path)\n",
    "\n",
    "# Load DataFrame with validation and fallback checks\n",
    "try:\n",
    "    df = loader.load()\n",
    "    print(f\"✅ Loaded {len(df):,} messages for labeling.\")\n",
    "except Exception as e:\n",
    "    print(f\"❌ Failed to load candidate Telegram messages: {e}\")"
   ]
  },
  {
   "cell_type": "code",
   "execution_count": null,
   "id": "e8ed6f3e",
   "metadata": {},
   "outputs": [],
   "source": []
  }
 ],
 "metadata": {
  "kernelspec": {
   "display_name": "data-extractor-challenge",
   "language": "python",
   "name": "python3"
  },
  "language_info": {
   "codemirror_mode": {
    "name": "ipython",
    "version": 3
   },
   "file_extension": ".py",
   "mimetype": "text/x-python",
   "name": "python",
   "nbconvert_exporter": "python",
   "pygments_lexer": "ipython3",
   "version": "3.12.0"
  }
 },
 "nbformat": 4,
 "nbformat_minor": 5
}
